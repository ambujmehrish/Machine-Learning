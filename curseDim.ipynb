{
 "cells": [
  {
   "cell_type": "raw",
   "id": "20865fa6",
   "metadata": {},
   "source": [
    "# Machine Learning A Probabiisitic Perspective: Figure 1.16: Curse of Dimensionality"
   ]
  },
  {
   "cell_type": "code",
   "execution_count": null,
   "id": "0b186f33",
   "metadata": {},
   "outputs": [],
   "source": [
    "import numpy as np\n",
    "import matplotlib.pyplot as plt"
   ]
  },
  {
   "cell_type": "code",
   "execution_count": 2,
   "id": "406c6383",
   "metadata": {},
   "outputs": [],
   "source": [
    "def GenerateInterval(z0,lmbda):\n",
    "  #'Generate lambda-interval \n",
    "  #'\n",
    "  #'@param z0 point in the unit interval. \n",
    "  #'@param lambda locality parameter.\n",
    "  #'@return lambda-interval of z0.\n",
    "    lambda_interval = []\n",
    "    for d in range(len(z0)):\n",
    "        z = z0[d]\n",
    "        if (z < lmbda/2):\n",
    "            u_min = 0\n",
    "            u_max = lmbda\n",
    "        elif (z < 1 - lmbda/2):\n",
    "            u_min = z - lmbda/2\n",
    "            u_max = z + lmbda/2\n",
    "        else:\n",
    "            u_min = 1 - lmbda \n",
    "            u_max = 1\n",
    "        lambda_interval.append((u_min,u_max))\n",
    "    \n",
    "    return lambda_interval"
   ]
  },
  {
   "cell_type": "code",
   "execution_count": 3,
   "id": "911f6322",
   "metadata": {},
   "outputs": [],
   "source": [
    "def IsInInterval(x, interval):\n",
    "  #'Evaluate wether a given point belongs to the given interval. \n",
    "  #'\n",
    "  #'@param x point in the unit interval. \n",
    "  #'@param interval vector of length two indicating interval limits. \n",
    "  #'@return boolean indicating wether x belongs to the given interval.\n",
    "    m= len(x)\n",
    "    index = 0\n",
    "    for d in range(0,m):\n",
    "        if (x[d] > interval[d][0]) and (x[d] < interval[d][1]):\n",
    "            index +=1\n",
    "    if index == m:\n",
    "        return True\n",
    "    else:\n",
    "        return False"
   ]
  },
  {
   "cell_type": "code",
   "execution_count": 4,
   "id": "4a04cf1b",
   "metadata": {},
   "outputs": [],
   "source": [
    "def CountAvailableObservations(z0, X, lmbda):\n",
    "  #' Count observations in the lambda-interval of a point.  \n",
    "  #'\n",
    "  #'@param z0 point in the unit interval. \n",
    "  #'@param X observation matrix.\n",
    "  #'@return number of samples in the lambda-interval of z0.\n",
    "    interval = GenerateInterval(z0,lmbda)\n",
    "    \n",
    "    m,n = X.shape\n",
    "    count = 0\n",
    "    for i in range(0,m):\n",
    "        condition = IsInInterval(x = X[i], interval = interval)\n",
    "        if condition:\n",
    "            count+=1\n",
    "    return count"
   ]
  },
  {
   "cell_type": "code",
   "execution_count": 5,
   "id": "3c111c24",
   "metadata": {},
   "outputs": [],
   "source": [
    "def RunSimulation1(lmbda,p,n0,n1,N):\n",
    "      #' Run simulation. \n",
    "  #'\n",
    "  #'@param lambda locality parameter.\n",
    "  #'@param z0 point in the unit interval. \n",
    "  #'@param n0 number of samples in the observation matrix.\n",
    "  #'@param n1 number of samples in the prediction matrix.\n",
    "  #'@param N number of times to run the count.\n",
    "  #'@return vector of fraction counts. \n",
    "  \n",
    "  # Run over simulation iterations. \n",
    "    counter = []\n",
    "    for i in range(0,N):\n",
    "      # Generate random observation samples.  \n",
    "        X = np.random.random((n0, p))\n",
    "      # Generate prediction grid.\n",
    "        sample = np.random.random((n1, p))\n",
    "        \n",
    "        for j in range(0,n1):\n",
    "            count = CountAvailableObservations(sample[j], X, lmbda)\n",
    "            counter.append(count)\n",
    "\n",
    "    return np.array(counter)/n1"
   ]
  },
  {
   "cell_type": "code",
   "execution_count": 6,
   "id": "a1014074",
   "metadata": {},
   "outputs": [],
   "source": [
    "# number of sample points\n",
    "n0 = 100\n",
    "n1 = 100\n",
    "N = 100\n",
    "fraction_dimension = []\n",
    "for p in range(0,11):\n",
    "    fraction_edge = []\n",
    "    for lmbda in np.linspace(0,1,11):\n",
    "        H = RunSimulation1(lmbda, p,n0, n1 , N)\n",
    "        fraction_edge.append(np.mean(H))\n",
    "    fraction_dimension.append(fraction_edge)      "
   ]
  },
  {
   "cell_type": "code",
   "execution_count": 29,
   "id": "6def8546",
   "metadata": {},
   "outputs": [
    {
     "data": {
      "image/png": "[encoded data removed]",
      "text/plain": [
       "<Figure size 432x288 with 1 Axes>"
      ]
     },
     "metadata": {
      "needs_background": "light"
     },
     "output_type": "display_data"
    }
   ],
   "source": [
    "y = np.linspace(0,1,11)\n",
    "plt.xlabel(\"Fraction of data in neighborhood\")\n",
    "plt.ylabel(\"Edge length of cube\")\n",
    "plt.title(\"Curse Dimensionality\")\n",
    "for i in range(len(fraction_dimension[0])):\n",
    "    if i%2 == 0:\n",
    "        continue\n",
    "    x = fraction_dimension[i]\n",
    "    plt.plot(x,y,label = 'd= %s'%i)\n",
    "plt.legend()\n",
    "plt.show()"
   ]
  },
  {
   "cell_type": "code",
   "execution_count": null,
   "id": "fa44e83a",
   "metadata": {},
   "outputs": [],
   "source": []
  }
 ],
 "metadata": {
  "kernelspec": {
   "display_name": "Python [conda env:PyTorch1.8] *",
   "language": "python",
   "name": "conda-env-PyTorch1.8-py"
  },
  "language_info": {
   "codemirror_mode": {
    "name": "ipython",
    "version": 3
   },
   "file_extension": ".py",
   "mimetype": "text/x-python",
   "name": "python",
   "nbconvert_exporter": "python",
   "pygments_lexer": "ipython3",
   "version": "3.8.8"
  }
 },
 "nbformat": 4,
 "nbformat_minor": 5
}
