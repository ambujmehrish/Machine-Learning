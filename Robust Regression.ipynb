{
 "cells": [
  {
   "cell_type": "code",
   "execution_count": 13,
   "metadata": {},
   "outputs": [],
   "source": [
    "from random import random\n",
    "from random import randint\n",
    "from random import seed\n",
    "from numpy import arange\n",
    "from numpy import mean\n",
    "from numpy import std\n",
    "from numpy import absolute\n",
    "from sklearn.datasets import make_regression\n",
    "from sklearn.model_selection import RepeatedKFold\n",
    "from sklearn.model_selection import cross_val_score\n",
    "from sklearn.linear_model import LinearRegression \n",
    "from sklearn.linear_model import HuberRegressor\n",
    "from sklearn.linear_model import RANSACRegressor\n",
    "from matplotlib import pyplot"
   ]
  },
  {
   "cell_type": "code",
   "execution_count": 14,
   "metadata": {},
   "outputs": [
    {
     "name": "stdout",
     "output_type": "stream",
     "text": [
      "(100, 1) (100,)\n"
     ]
    },
    {
     "data": {
      "image/png": "[encoded data removed]",
      "text/plain": [
       "<Figure size 432x288 with 1 Axes>"
      ]
     },
     "metadata": {
      "needs_background": "light"
     },
     "output_type": "display_data"
    }
   ],
   "source": [
    "#Prepare dataset\n",
    "def get_dataset():\n",
    "    X, y = make_regression(n_samples=100,n_features=1,tail_strength=0.9,effective_rank=1,n_informative=1,noise=3,bias=50,random_state=1)\n",
    "    # add some artificial outliears\n",
    "    seed(1)\n",
    "    for i in range(10):\n",
    "        factor = randint(2,4)\n",
    "        if random()>0.5:\n",
    "            X[i] += factor*X.std()\n",
    "        else:\n",
    "            X[i] -= factor*X.std()\n",
    "    return X,y\n",
    "\n",
    "# Load Dataset\n",
    "X,y = get_dataset()\n",
    "# summarize shape\n",
    "print(X.shape,y.shape)\n",
    "# scatter plot for  input vs output\n",
    "pyplot.scatter(X,y)\n",
    "pyplot.show()"
   ]
  },
  {
   "cell_type": "code",
   "execution_count": 15,
   "metadata": {},
   "outputs": [],
   "source": [
    "# Linear Regression\n",
    "def evaluate_model(X,y,model):\n",
    "    #define model evaluation method\n",
    "    cv = RepeatedKFold(n_splits=10,n_repeats=3,random_state=1)\n",
    "    #evaluate model\n",
    "    scores = cross_val_score(model,X,y,scoring='neg_mean_absolute_error',cv=cv,n_jobs=1)\n",
    "    return absolute(scores)"
   ]
  },
  {
   "cell_type": "code",
   "execution_count": 16,
   "metadata": {},
   "outputs": [],
   "source": [
    "# plot the dataset and the model's line of best fit\n",
    "def plot_best_fit(X, y, model):\n",
    "    # fut the model on all data\n",
    "    model.fit(X, y)\n",
    "    # plot the dataset\n",
    "    pyplot.scatter(X, y)\n",
    "    # plot the line of best fit\n",
    "    xaxis = arange(X.min(), X.max(), 0.01)\n",
    "    yaxis = model.predict(xaxis.reshape((len(xaxis), 1)))\n",
    "    pyplot.plot(xaxis, yaxis, color='r')\n",
    "    # show the plot\n",
    "    pyplot.title(type(model).__name__)\n",
    "    pyplot.show()"
   ]
  },
  {
   "cell_type": "code",
   "execution_count": 17,
   "metadata": {},
   "outputs": [
    {
     "name": "stdout",
     "output_type": "stream",
     "text": [
      "Mean MAE:4.386 (2.209)\n"
     ]
    },
    {
     "data": {
      "image/png": "[encoded data removed]",
      "text/plain": [
       "<Figure size 432x288 with 1 Axes>"
      ]
     },
     "metadata": {
      "needs_background": "light"
     },
     "output_type": "display_data"
    }
   ],
   "source": [
    "X,y = get_dataset()\n",
    "#model = LinearRegression()\n",
    "#model = HuberRegressor()\n",
    "model = RANSACRegressor()\n",
    "results = evaluate_model(X,y,model)\n",
    "print('Mean MAE:%.3f (%.3f)'% (mean(results),std(results)))\n",
    "plot_best_fit(X,y,model)"
   ]
  },
  {
   "cell_type": "code",
   "execution_count": 1,
   "metadata": {},
   "outputs": [
    {
     "ename": "SyntaxError",
     "evalue": "invalid syntax (<ipython-input-1-01716bce7c8a>, line 1)",
     "output_type": "error",
     "traceback": [
      "\u001b[0;36m  File \u001b[0;32m\"<ipython-input-1-01716bce7c8a>\"\u001b[0;36m, line \u001b[0;32m1\u001b[0m\n\u001b[0;31m    git clone https://github.com/rakhimovv/tcav.git\u001b[0m\n\u001b[0m            ^\u001b[0m\n\u001b[0;31mSyntaxError\u001b[0m\u001b[0;31m:\u001b[0m invalid syntax\n"
     ]
    }
   ],
   "source": [
    "git clone https://github.com/rakhimovv/tcav.git"
   ]
  },
  {
   "cell_type": "code",
   "execution_count": null,
   "metadata": {},
   "outputs": [],
   "source": []
  }
 ],
 "metadata": {
  "kernelspec": {
   "display_name": "Python 3",
   "language": "python",
   "name": "python3"
  },
  "language_info": {
   "codemirror_mode": {
    "name": "ipython",
    "version": 3
   },
   "file_extension": ".py",
   "mimetype": "text/x-python",
   "name": "python",
   "nbconvert_exporter": "python",
   "pygments_lexer": "ipython3",
   "version": "3.8.8"
  }
 },
 "nbformat": 4,
 "nbformat_minor": 4
}
