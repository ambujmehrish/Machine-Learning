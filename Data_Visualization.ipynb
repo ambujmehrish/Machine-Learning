{
 "cells": [
  {
   "cell_type": "code",
   "execution_count": 13,
   "id": "94d12cfb",
   "metadata": {},
   "outputs": [],
   "source": [
    "import pandas as pd\n",
    "import lux\n",
    "lux.config.plotting_backend = \"altair\""
   ]
  },
  {
   "cell_type": "code",
   "execution_count": 14,
   "id": "4b8d7d76",
   "metadata": {},
   "outputs": [],
   "source": [
    "df = pd.read_csv('../CSV/Voxceleb2_dev_trim.csv')"
   ]
  },
  {
   "cell_type": "code",
   "execution_count": 15,
   "id": "7c51f6a5",
   "metadata": {
    "scrolled": true
   },
   "outputs": [
    {
     "data": {
      "application/vnd.jupyter.widget-view+json": {
       "model_id": "cd1e4bf69b694ae6957bd2716e785746",
       "version_major": 2,
       "version_minor": 0
      },
      "text/plain": [
       "Button(description='Toggle Pandas/Lux', layout=Layout(top='5px', width='140px'), style=ButtonStyle())"
      ]
     },
     "metadata": {},
     "output_type": "display_data"
    },
    {
     "data": {
      "application/vnd.jupyter.widget-view+json": {
       "model_id": "d517a4c14fcc47cd91d0e533c8f27d58",
       "version_major": 2,
       "version_minor": 0
      },
      "text/plain": [
       "Output()"
      ]
     },
     "metadata": {},
     "output_type": "display_data"
    }
   ],
   "source": [
    "df"
   ]
  },
  {
   "cell_type": "code",
   "execution_count": null,
   "id": "63a55fc8",
   "metadata": {},
   "outputs": [],
   "source": [
    "pip install lux-widget"
   ]
  },
  {
   "cell_type": "code",
   "execution_count": null,
   "id": "cb6a1459",
   "metadata": {},
   "outputs": [],
   "source": []
  }
 ],
 "metadata": {
  "kernelspec": {
   "display_name": "Python 3",
   "language": "python",
   "name": "python3"
  },
  "language_info": {
   "codemirror_mode": {
    "name": "ipython",
    "version": 3
   },
   "file_extension": ".py",
   "mimetype": "text/x-python",
   "name": "python",
   "nbconvert_exporter": "python",
   "pygments_lexer": "ipython3",
   "version": "3.8.8"
  }
 },
 "nbformat": 4,
 "nbformat_minor": 5
}
